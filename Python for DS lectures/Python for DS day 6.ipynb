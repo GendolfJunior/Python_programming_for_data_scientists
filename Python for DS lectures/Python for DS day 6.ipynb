{
 "cells": [
  {
   "cell_type": "markdown",
   "metadata": {},
   "source": [
    "### Bias-variance trade-off"
   ]
  },
  {
   "cell_type": "code",
   "execution_count": 1,
   "metadata": {},
   "outputs": [],
   "source": [
    "from sklearn.preprocessing import PolynomialFeatures"
   ]
  },
  {
   "cell_type": "code",
   "execution_count": 2,
   "metadata": {},
   "outputs": [],
   "source": [
    "from sklearn.linear_model import LinearRegression"
   ]
  },
  {
   "cell_type": "code",
   "execution_count": 3,
   "metadata": {},
   "outputs": [],
   "source": [
    "from sklearn.pipeline import make_pipeline"
   ]
  },
  {
   "cell_type": "code",
   "execution_count": 4,
   "metadata": {},
   "outputs": [],
   "source": [
    "def PolynomialRegression(degree = 2, **kwargs):\n",
    "    # combine a couple functions into a single function\n",
    "    return make_pipeline(PolynomialFeatures(degree),\n",
    "                        LinearRegression(**kwargs))"
   ]
  },
  {
   "cell_type": "code",
   "execution_count": 5,
   "metadata": {},
   "outputs": [],
   "source": [
    "import numpy as np"
   ]
  },
  {
   "cell_type": "code",
   "execution_count": 6,
   "metadata": {},
   "outputs": [],
   "source": [
    "def make_data(N, err=1.0, rseed = 0):\n",
    "    rng = np.random.RandomState(rseed)\n",
    "    X = rng.rand(N, 1) ** 2\n",
    "    y = 10 -1./ (X.ravel() + 0.1)\n",
    "    if err > 0:\n",
    "        y += err * rng.rand(N)\n",
    "    return X, y"
   ]
  },
  {
   "cell_type": "code",
   "execution_count": 28,
   "metadata": {},
   "outputs": [],
   "source": [
    "X, y = make_data(40)"
   ]
  },
  {
   "cell_type": "code",
   "execution_count": 11,
   "metadata": {
    "scrolled": true
   },
   "outputs": [
    {
     "data": {
      "text/plain": "array([[3.01196262e-01],\n       [5.11495830e-01],\n       [3.63323688e-01],\n       [2.96897683e-01],\n       [1.79483389e-01],\n       [4.17179205e-01],\n       [1.91482567e-01],\n       [7.95259085e-01],\n       [9.28645916e-01],\n       [1.47027398e-01],\n       [6.26828536e-01],\n       [2.79729836e-01],\n       [3.22674623e-01],\n       [8.56729137e-01],\n       [5.04612156e-03],\n       [7.59151487e-03],\n       [4.08783595e-04],\n       [6.93255807e-01],\n       [6.05527929e-01],\n       [7.56921138e-01],\n       [9.57693860e-01],\n       [6.38654411e-01],\n       [2.12963202e-01],\n       [6.09225795e-01],\n       [1.39888398e-02],\n       [4.09498914e-01],\n       [2.05501650e-02],\n       [8.92399363e-01],\n       [2.72325671e-01],\n       [1.71944524e-01],\n       [6.99896719e-02],\n       [5.99437806e-01],\n       [2.08073126e-01],\n       [3.23117154e-01],\n       [3.53056600e-04],\n       [3.81473607e-01],\n       [3.74661174e-01],\n       [3.80607556e-01],\n       [8.90660436e-01],\n       [4.64878920e-01]])"
     },
     "execution_count": 11,
     "metadata": {},
     "output_type": "execute_result"
    }
   ],
   "source": [
    "X"
   ]
  },
  {
   "cell_type": "code",
   "execution_count": 12,
   "metadata": {},
   "outputs": [
    {
     "data": {
      "text/plain": "array([7.86696225, 8.80169783, 8.53931288, 7.54068443, 7.08873654,\n       8.73707212, 6.77964566, 9.01193121, 9.34327653, 6.31557681,\n       9.19435646, 7.80515029, 8.62248778, 9.0568169 , 0.68924876,\n       0.86689628, 0.69382026, 8.99266421, 9.04893244, 9.07745706,\n       9.21351643, 8.75656207, 7.46106576, 8.72819475, 1.42379371,\n       8.40601245, 2.52569144, 9.08944243, 8.15212419, 6.41887784,\n       5.09374913, 9.03893152, 7.7307785 , 8.2414339 , 0.77444503,\n       7.96223075, 8.17604101, 8.03949686, 9.28671258, 8.34843684])"
     },
     "execution_count": 12,
     "metadata": {},
     "output_type": "execute_result"
    }
   ],
   "source": [
    "y"
   ]
  },
  {
   "cell_type": "code",
   "execution_count": 13,
   "metadata": {},
   "outputs": [],
   "source": [
    "%matplotlib inline"
   ]
  },
  {
   "cell_type": "code",
   "execution_count": 21,
   "metadata": {},
   "outputs": [],
   "source": [
    "import matplotlib.pyplot as plt"
   ]
  },
  {
   "cell_type": "code",
   "execution_count": 15,
   "metadata": {},
   "outputs": [],
   "source": [
    "import seaborn; seaborn.set();"
   ]
  },
  {
   "cell_type": "code",
   "execution_count": 16,
   "metadata": {},
   "outputs": [],
   "source": [
    "X_test = np.linspace(-0.1, 1.1, 500)[:, None]"
   ]
  },
  {
   "cell_type": "code",
   "execution_count": 17,
   "metadata": {},
   "outputs": [
    {
     "data": {
      "text/plain": "array([[-1.00000000e-01],\n       [-9.75951904e-02],\n       [-9.51903808e-02],\n       [-9.27855711e-02],\n       [-9.03807615e-02],\n       [-8.79759519e-02],\n       [-8.55711423e-02],\n       [-8.31663327e-02],\n       [-8.07615230e-02],\n       [-7.83567134e-02],\n       [-7.59519038e-02],\n       [-7.35470942e-02],\n       [-7.11422846e-02],\n       [-6.87374749e-02],\n       [-6.63326653e-02],\n       [-6.39278557e-02],\n       [-6.15230461e-02],\n       [-5.91182365e-02],\n       [-5.67134269e-02],\n       [-5.43086172e-02],\n       [-5.19038076e-02],\n       [-4.94989980e-02],\n       [-4.70941884e-02],\n       [-4.46893788e-02],\n       [-4.22845691e-02],\n       [-3.98797595e-02],\n       [-3.74749499e-02],\n       [-3.50701403e-02],\n       [-3.26653307e-02],\n       [-3.02605210e-02],\n       [-2.78557114e-02],\n       [-2.54509018e-02],\n       [-2.30460922e-02],\n       [-2.06412826e-02],\n       [-1.82364729e-02],\n       [-1.58316633e-02],\n       [-1.34268537e-02],\n       [-1.10220441e-02],\n       [-8.61723447e-03],\n       [-6.21242485e-03],\n       [-3.80761523e-03],\n       [-1.40280561e-03],\n       [ 1.00200401e-03],\n       [ 3.40681363e-03],\n       [ 5.81162325e-03],\n       [ 8.21643287e-03],\n       [ 1.06212425e-02],\n       [ 1.30260521e-02],\n       [ 1.54308617e-02],\n       [ 1.78356713e-02],\n       [ 2.02404810e-02],\n       [ 2.26452906e-02],\n       [ 2.50501002e-02],\n       [ 2.74549098e-02],\n       [ 2.98597194e-02],\n       [ 3.22645291e-02],\n       [ 3.46693387e-02],\n       [ 3.70741483e-02],\n       [ 3.94789579e-02],\n       [ 4.18837675e-02],\n       [ 4.42885772e-02],\n       [ 4.66933868e-02],\n       [ 4.90981964e-02],\n       [ 5.15030060e-02],\n       [ 5.39078156e-02],\n       [ 5.63126253e-02],\n       [ 5.87174349e-02],\n       [ 6.11222445e-02],\n       [ 6.35270541e-02],\n       [ 6.59318637e-02],\n       [ 6.83366733e-02],\n       [ 7.07414830e-02],\n       [ 7.31462926e-02],\n       [ 7.55511022e-02],\n       [ 7.79559118e-02],\n       [ 8.03607214e-02],\n       [ 8.27655311e-02],\n       [ 8.51703407e-02],\n       [ 8.75751503e-02],\n       [ 8.99799599e-02],\n       [ 9.23847695e-02],\n       [ 9.47895792e-02],\n       [ 9.71943888e-02],\n       [ 9.95991984e-02],\n       [ 1.02004008e-01],\n       [ 1.04408818e-01],\n       [ 1.06813627e-01],\n       [ 1.09218437e-01],\n       [ 1.11623246e-01],\n       [ 1.14028056e-01],\n       [ 1.16432866e-01],\n       [ 1.18837675e-01],\n       [ 1.21242485e-01],\n       [ 1.23647295e-01],\n       [ 1.26052104e-01],\n       [ 1.28456914e-01],\n       [ 1.30861723e-01],\n       [ 1.33266533e-01],\n       [ 1.35671343e-01],\n       [ 1.38076152e-01],\n       [ 1.40480962e-01],\n       [ 1.42885772e-01],\n       [ 1.45290581e-01],\n       [ 1.47695391e-01],\n       [ 1.50100200e-01],\n       [ 1.52505010e-01],\n       [ 1.54909820e-01],\n       [ 1.57314629e-01],\n       [ 1.59719439e-01],\n       [ 1.62124248e-01],\n       [ 1.64529058e-01],\n       [ 1.66933868e-01],\n       [ 1.69338677e-01],\n       [ 1.71743487e-01],\n       [ 1.74148297e-01],\n       [ 1.76553106e-01],\n       [ 1.78957916e-01],\n       [ 1.81362725e-01],\n       [ 1.83767535e-01],\n       [ 1.86172345e-01],\n       [ 1.88577154e-01],\n       [ 1.90981964e-01],\n       [ 1.93386774e-01],\n       [ 1.95791583e-01],\n       [ 1.98196393e-01],\n       [ 2.00601202e-01],\n       [ 2.03006012e-01],\n       [ 2.05410822e-01],\n       [ 2.07815631e-01],\n       [ 2.10220441e-01],\n       [ 2.12625251e-01],\n       [ 2.15030060e-01],\n       [ 2.17434870e-01],\n       [ 2.19839679e-01],\n       [ 2.22244489e-01],\n       [ 2.24649299e-01],\n       [ 2.27054108e-01],\n       [ 2.29458918e-01],\n       [ 2.31863727e-01],\n       [ 2.34268537e-01],\n       [ 2.36673347e-01],\n       [ 2.39078156e-01],\n       [ 2.41482966e-01],\n       [ 2.43887776e-01],\n       [ 2.46292585e-01],\n       [ 2.48697395e-01],\n       [ 2.51102204e-01],\n       [ 2.53507014e-01],\n       [ 2.55911824e-01],\n       [ 2.58316633e-01],\n       [ 2.60721443e-01],\n       [ 2.63126253e-01],\n       [ 2.65531062e-01],\n       [ 2.67935872e-01],\n       [ 2.70340681e-01],\n       [ 2.72745491e-01],\n       [ 2.75150301e-01],\n       [ 2.77555110e-01],\n       [ 2.79959920e-01],\n       [ 2.82364729e-01],\n       [ 2.84769539e-01],\n       [ 2.87174349e-01],\n       [ 2.89579158e-01],\n       [ 2.91983968e-01],\n       [ 2.94388778e-01],\n       [ 2.96793587e-01],\n       [ 2.99198397e-01],\n       [ 3.01603206e-01],\n       [ 3.04008016e-01],\n       [ 3.06412826e-01],\n       [ 3.08817635e-01],\n       [ 3.11222445e-01],\n       [ 3.13627255e-01],\n       [ 3.16032064e-01],\n       [ 3.18436874e-01],\n       [ 3.20841683e-01],\n       [ 3.23246493e-01],\n       [ 3.25651303e-01],\n       [ 3.28056112e-01],\n       [ 3.30460922e-01],\n       [ 3.32865731e-01],\n       [ 3.35270541e-01],\n       [ 3.37675351e-01],\n       [ 3.40080160e-01],\n       [ 3.42484970e-01],\n       [ 3.44889780e-01],\n       [ 3.47294589e-01],\n       [ 3.49699399e-01],\n       [ 3.52104208e-01],\n       [ 3.54509018e-01],\n       [ 3.56913828e-01],\n       [ 3.59318637e-01],\n       [ 3.61723447e-01],\n       [ 3.64128257e-01],\n       [ 3.66533066e-01],\n       [ 3.68937876e-01],\n       [ 3.71342685e-01],\n       [ 3.73747495e-01],\n       [ 3.76152305e-01],\n       [ 3.78557114e-01],\n       [ 3.80961924e-01],\n       [ 3.83366733e-01],\n       [ 3.85771543e-01],\n       [ 3.88176353e-01],\n       [ 3.90581162e-01],\n       [ 3.92985972e-01],\n       [ 3.95390782e-01],\n       [ 3.97795591e-01],\n       [ 4.00200401e-01],\n       [ 4.02605210e-01],\n       [ 4.05010020e-01],\n       [ 4.07414830e-01],\n       [ 4.09819639e-01],\n       [ 4.12224449e-01],\n       [ 4.14629259e-01],\n       [ 4.17034068e-01],\n       [ 4.19438878e-01],\n       [ 4.21843687e-01],\n       [ 4.24248497e-01],\n       [ 4.26653307e-01],\n       [ 4.29058116e-01],\n       [ 4.31462926e-01],\n       [ 4.33867735e-01],\n       [ 4.36272545e-01],\n       [ 4.38677355e-01],\n       [ 4.41082164e-01],\n       [ 4.43486974e-01],\n       [ 4.45891784e-01],\n       [ 4.48296593e-01],\n       [ 4.50701403e-01],\n       [ 4.53106212e-01],\n       [ 4.55511022e-01],\n       [ 4.57915832e-01],\n       [ 4.60320641e-01],\n       [ 4.62725451e-01],\n       [ 4.65130261e-01],\n       [ 4.67535070e-01],\n       [ 4.69939880e-01],\n       [ 4.72344689e-01],\n       [ 4.74749499e-01],\n       [ 4.77154309e-01],\n       [ 4.79559118e-01],\n       [ 4.81963928e-01],\n       [ 4.84368737e-01],\n       [ 4.86773547e-01],\n       [ 4.89178357e-01],\n       [ 4.91583166e-01],\n       [ 4.93987976e-01],\n       [ 4.96392786e-01],\n       [ 4.98797595e-01],\n       [ 5.01202405e-01],\n       [ 5.03607214e-01],\n       [ 5.06012024e-01],\n       [ 5.08416834e-01],\n       [ 5.10821643e-01],\n       [ 5.13226453e-01],\n       [ 5.15631263e-01],\n       [ 5.18036072e-01],\n       [ 5.20440882e-01],\n       [ 5.22845691e-01],\n       [ 5.25250501e-01],\n       [ 5.27655311e-01],\n       [ 5.30060120e-01],\n       [ 5.32464930e-01],\n       [ 5.34869739e-01],\n       [ 5.37274549e-01],\n       [ 5.39679359e-01],\n       [ 5.42084168e-01],\n       [ 5.44488978e-01],\n       [ 5.46893788e-01],\n       [ 5.49298597e-01],\n       [ 5.51703407e-01],\n       [ 5.54108216e-01],\n       [ 5.56513026e-01],\n       [ 5.58917836e-01],\n       [ 5.61322645e-01],\n       [ 5.63727455e-01],\n       [ 5.66132265e-01],\n       [ 5.68537074e-01],\n       [ 5.70941884e-01],\n       [ 5.73346693e-01],\n       [ 5.75751503e-01],\n       [ 5.78156313e-01],\n       [ 5.80561122e-01],\n       [ 5.82965932e-01],\n       [ 5.85370741e-01],\n       [ 5.87775551e-01],\n       [ 5.90180361e-01],\n       [ 5.92585170e-01],\n       [ 5.94989980e-01],\n       [ 5.97394790e-01],\n       [ 5.99799599e-01],\n       [ 6.02204409e-01],\n       [ 6.04609218e-01],\n       [ 6.07014028e-01],\n       [ 6.09418838e-01],\n       [ 6.11823647e-01],\n       [ 6.14228457e-01],\n       [ 6.16633267e-01],\n       [ 6.19038076e-01],\n       [ 6.21442886e-01],\n       [ 6.23847695e-01],\n       [ 6.26252505e-01],\n       [ 6.28657315e-01],\n       [ 6.31062124e-01],\n       [ 6.33466934e-01],\n       [ 6.35871743e-01],\n       [ 6.38276553e-01],\n       [ 6.40681363e-01],\n       [ 6.43086172e-01],\n       [ 6.45490982e-01],\n       [ 6.47895792e-01],\n       [ 6.50300601e-01],\n       [ 6.52705411e-01],\n       [ 6.55110220e-01],\n       [ 6.57515030e-01],\n       [ 6.59919840e-01],\n       [ 6.62324649e-01],\n       [ 6.64729459e-01],\n       [ 6.67134269e-01],\n       [ 6.69539078e-01],\n       [ 6.71943888e-01],\n       [ 6.74348697e-01],\n       [ 6.76753507e-01],\n       [ 6.79158317e-01],\n       [ 6.81563126e-01],\n       [ 6.83967936e-01],\n       [ 6.86372745e-01],\n       [ 6.88777555e-01],\n       [ 6.91182365e-01],\n       [ 6.93587174e-01],\n       [ 6.95991984e-01],\n       [ 6.98396794e-01],\n       [ 7.00801603e-01],\n       [ 7.03206413e-01],\n       [ 7.05611222e-01],\n       [ 7.08016032e-01],\n       [ 7.10420842e-01],\n       [ 7.12825651e-01],\n       [ 7.15230461e-01],\n       [ 7.17635271e-01],\n       [ 7.20040080e-01],\n       [ 7.22444890e-01],\n       [ 7.24849699e-01],\n       [ 7.27254509e-01],\n       [ 7.29659319e-01],\n       [ 7.32064128e-01],\n       [ 7.34468938e-01],\n       [ 7.36873747e-01],\n       [ 7.39278557e-01],\n       [ 7.41683367e-01],\n       [ 7.44088176e-01],\n       [ 7.46492986e-01],\n       [ 7.48897796e-01],\n       [ 7.51302605e-01],\n       [ 7.53707415e-01],\n       [ 7.56112224e-01],\n       [ 7.58517034e-01],\n       [ 7.60921844e-01],\n       [ 7.63326653e-01],\n       [ 7.65731463e-01],\n       [ 7.68136273e-01],\n       [ 7.70541082e-01],\n       [ 7.72945892e-01],\n       [ 7.75350701e-01],\n       [ 7.77755511e-01],\n       [ 7.80160321e-01],\n       [ 7.82565130e-01],\n       [ 7.84969940e-01],\n       [ 7.87374749e-01],\n       [ 7.89779559e-01],\n       [ 7.92184369e-01],\n       [ 7.94589178e-01],\n       [ 7.96993988e-01],\n       [ 7.99398798e-01],\n       [ 8.01803607e-01],\n       [ 8.04208417e-01],\n       [ 8.06613226e-01],\n       [ 8.09018036e-01],\n       [ 8.11422846e-01],\n       [ 8.13827655e-01],\n       [ 8.16232465e-01],\n       [ 8.18637275e-01],\n       [ 8.21042084e-01],\n       [ 8.23446894e-01],\n       [ 8.25851703e-01],\n       [ 8.28256513e-01],\n       [ 8.30661323e-01],\n       [ 8.33066132e-01],\n       [ 8.35470942e-01],\n       [ 8.37875752e-01],\n       [ 8.40280561e-01],\n       [ 8.42685371e-01],\n       [ 8.45090180e-01],\n       [ 8.47494990e-01],\n       [ 8.49899800e-01],\n       [ 8.52304609e-01],\n       [ 8.54709419e-01],\n       [ 8.57114228e-01],\n       [ 8.59519038e-01],\n       [ 8.61923848e-01],\n       [ 8.64328657e-01],\n       [ 8.66733467e-01],\n       [ 8.69138277e-01],\n       [ 8.71543086e-01],\n       [ 8.73947896e-01],\n       [ 8.76352705e-01],\n       [ 8.78757515e-01],\n       [ 8.81162325e-01],\n       [ 8.83567134e-01],\n       [ 8.85971944e-01],\n       [ 8.88376754e-01],\n       [ 8.90781563e-01],\n       [ 8.93186373e-01],\n       [ 8.95591182e-01],\n       [ 8.97995992e-01],\n       [ 9.00400802e-01],\n       [ 9.02805611e-01],\n       [ 9.05210421e-01],\n       [ 9.07615230e-01],\n       [ 9.10020040e-01],\n       [ 9.12424850e-01],\n       [ 9.14829659e-01],\n       [ 9.17234469e-01],\n       [ 9.19639279e-01],\n       [ 9.22044088e-01],\n       [ 9.24448898e-01],\n       [ 9.26853707e-01],\n       [ 9.29258517e-01],\n       [ 9.31663327e-01],\n       [ 9.34068136e-01],\n       [ 9.36472946e-01],\n       [ 9.38877756e-01],\n       [ 9.41282565e-01],\n       [ 9.43687375e-01],\n       [ 9.46092184e-01],\n       [ 9.48496994e-01],\n       [ 9.50901804e-01],\n       [ 9.53306613e-01],\n       [ 9.55711423e-01],\n       [ 9.58116232e-01],\n       [ 9.60521042e-01],\n       [ 9.62925852e-01],\n       [ 9.65330661e-01],\n       [ 9.67735471e-01],\n       [ 9.70140281e-01],\n       [ 9.72545090e-01],\n       [ 9.74949900e-01],\n       [ 9.77354709e-01],\n       [ 9.79759519e-01],\n       [ 9.82164329e-01],\n       [ 9.84569138e-01],\n       [ 9.86973948e-01],\n       [ 9.89378758e-01],\n       [ 9.91783567e-01],\n       [ 9.94188377e-01],\n       [ 9.96593186e-01],\n       [ 9.98997996e-01],\n       [ 1.00140281e+00],\n       [ 1.00380762e+00],\n       [ 1.00621242e+00],\n       [ 1.00861723e+00],\n       [ 1.01102204e+00],\n       [ 1.01342685e+00],\n       [ 1.01583166e+00],\n       [ 1.01823647e+00],\n       [ 1.02064128e+00],\n       [ 1.02304609e+00],\n       [ 1.02545090e+00],\n       [ 1.02785571e+00],\n       [ 1.03026052e+00],\n       [ 1.03266533e+00],\n       [ 1.03507014e+00],\n       [ 1.03747495e+00],\n       [ 1.03987976e+00],\n       [ 1.04228457e+00],\n       [ 1.04468938e+00],\n       [ 1.04709419e+00],\n       [ 1.04949900e+00],\n       [ 1.05190381e+00],\n       [ 1.05430862e+00],\n       [ 1.05671343e+00],\n       [ 1.05911824e+00],\n       [ 1.06152305e+00],\n       [ 1.06392786e+00],\n       [ 1.06633267e+00],\n       [ 1.06873747e+00],\n       [ 1.07114228e+00],\n       [ 1.07354709e+00],\n       [ 1.07595190e+00],\n       [ 1.07835671e+00],\n       [ 1.08076152e+00],\n       [ 1.08316633e+00],\n       [ 1.08557114e+00],\n       [ 1.08797595e+00],\n       [ 1.09038076e+00],\n       [ 1.09278557e+00],\n       [ 1.09519038e+00],\n       [ 1.09759519e+00],\n       [ 1.10000000e+00]])"
     },
     "execution_count": 17,
     "metadata": {},
     "output_type": "execute_result"
    }
   ],
   "source": [
    "X_test"
   ]
  },
  {
   "cell_type": "code",
   "execution_count": 33,
   "metadata": {},
   "outputs": [
    {
     "data": {
      "text/plain": "<matplotlib.legend.Legend at 0x1d17b970>"
     },
     "execution_count": 33,
     "metadata": {},
     "output_type": "execute_result"
    },
    {
     "data": {
      "text/plain": "<Figure size 432x288 with 1 Axes>",
      "image/png": "[encoded data removed]"
     },
     "metadata": {},
     "output_type": "display_data"
    }
   ],
   "source": [
    "plt.scatter(X.ravel(), y, color='black')\n",
    "axis = plt.axis()\n",
    "for degree in [1, 3, 5]:\n",
    "    y_test = PolynomialRegression(degree).fit(X, y).predict(X_test)\n",
    "    plt.plot(X_test.ravel(), y_test, label = 'degree{0}'.format(degree))\n",
    "plt.xlim(-0.1, 1.0)\n",
    "plt.ylim(-2, 12)\n",
    "plt.legend(loc='best')"
   ]
  },
  {
   "cell_type": "code",
   "execution_count": 34,
   "metadata": {},
   "outputs": [],
   "source": [
    "#from sklearn.learning_curve import validation_curve\n",
    "from sklearn.model_selection import validation_curve"
   ]
  },
  {
   "cell_type": "code",
   "execution_count": 35,
   "metadata": {},
   "outputs": [],
   "source": [
    "degree = np.arange(0, 21)"
   ]
  },
  {
   "cell_type": "code",
   "execution_count": 33,
   "metadata": {},
   "outputs": [
    {
     "data": {
      "text/plain": [
       "array([ 0,  1,  2,  3,  4,  5,  6,  7,  8,  9, 10, 11, 12, 13, 14, 15, 16,\n",
       "       17, 18, 19, 20])"
      ]
     },
     "execution_count": 33,
     "metadata": {},
     "output_type": "execute_result"
    }
   ],
   "source": [
    "degree"
   ]
  },
  {
   "cell_type": "code",
   "execution_count": 36,
   "metadata": {},
   "outputs": [
    {
     "name": "stderr",
     "output_type": "stream",
     "text": [
      "d:\\andriy\\university\\ucu\\master\\python\\python_for_ds\\venv\\lib\\site-packages\\sklearn\\utils\\validation.py:70: FutureWarning: Pass param_name=polynomialfeatures__degree, param_range=[ 0  1  2  3  4  5  6  7  8  9 10 11 12 13 14 15 16 17 18 19 20] as keyword args. From version 1.0 (renaming of 0.25) passing these as positional arguments will result in an error\n",
      "  warnings.warn(f\"Pass {args_msg} as keyword args. From version \"\n"
     ]
    }
   ],
   "source": [
    "train_score, val_score = validation_curve(PolynomialRegression(), X, y, 'polynomialfeatures__degree', degree, cv=7)"
   ]
  },
  {
   "cell_type": "code",
   "execution_count": 47,
   "metadata": {},
   "outputs": [
    {
     "data": {
      "text/plain": [
       "Text(0,0.5,'score')"
      ]
     },
     "execution_count": 47,
     "metadata": {},
     "output_type": "execute_result"
    },
    {
     "data": {
      "image/png": "[encoded data removed]",
      "text/plain": [
       "<Figure size 432x288 with 1 Axes>"
      ]
     },
     "metadata": {},
     "output_type": "display_data"
    }
   ],
   "source": [
    "plt.plot(degree, np.median(train_score, 1), color='red', label='trainig_score')\n",
    "plt.plot(degree, np.median(val_score, 1), color='blue', label='validation_score')\n",
    "plt.xlabel('degree')\n",
    "plt.ylabel('score')"
   ]
  },
  {
   "cell_type": "code",
   "execution_count": 37,
   "metadata": {},
   "outputs": [
    {
     "data": {
      "text/plain": "<Figure size 432x288 with 1 Axes>",
      "image/png": "[encoded data removed]"
     },
     "metadata": {},
     "output_type": "display_data"
    }
   ],
   "source": [
    "plt.scatter(X.ravel(), y)\n",
    "lim = plt.axis()\n",
    "y_test = PolynomialRegression(3).fit(X, y).predict(X_test)\n",
    "plt.plot(X_test.ravel(), y_test)\n",
    "plt.axis(lim);"
   ]
  },
  {
   "cell_type": "markdown",
   "metadata": {},
   "source": [
    "### Validation curve"
   ]
  },
  {
   "cell_type": "code",
   "execution_count": 38,
   "metadata": {},
   "outputs": [],
   "source": [
    "X2, y2 = make_data(200)"
   ]
  },
  {
   "cell_type": "code",
   "execution_count": 39,
   "metadata": {},
   "outputs": [
    {
     "data": {
      "text/plain": "<matplotlib.collections.PathCollection at 0x1e266460>"
     },
     "execution_count": 39,
     "metadata": {},
     "output_type": "execute_result"
    },
    {
     "data": {
      "text/plain": "<Figure size 432x288 with 1 Axes>",
      "image/png": "[encoded data removed]"
     },
     "metadata": {},
     "output_type": "display_data"
    }
   ],
   "source": [
    "plt.scatter(X2.ravel(), y2)"
   ]
  },
  {
   "cell_type": "code",
   "execution_count": 40,
   "metadata": {},
   "outputs": [
    {
     "name": "stderr",
     "output_type": "stream",
     "text": [
      "d:\\andriy\\university\\ucu\\master\\python\\python_for_ds\\venv\\lib\\site-packages\\sklearn\\utils\\validation.py:70: FutureWarning: Pass param_name=polynomialfeatures__degree, param_range=[ 0  1  2  3  4  5  6  7  8  9 10 11 12 13 14 15 16 17 18 19 20] as keyword args. From version 1.0 (renaming of 0.25) passing these as positional arguments will result in an error\n",
      "  warnings.warn(f\"Pass {args_msg} as keyword args. From version \"\n"
     ]
    }
   ],
   "source": [
    "train_score2,val_score2 = validation_curve(PolynomialRegression(), X2, y2, 'polynomialfeatures__degree', degree, cv=7)"
   ]
  },
  {
   "cell_type": "code",
   "execution_count": 42,
   "metadata": {},
   "outputs": [
    {
     "data": {
      "text/plain": "Text(0, 0.5, 'score')"
     },
     "execution_count": 42,
     "metadata": {},
     "output_type": "execute_result"
    },
    {
     "data": {
      "text/plain": "<Figure size 432x288 with 1 Axes>",
      "image/png": "[encoded data removed]"
     },
     "metadata": {},
     "output_type": "display_data"
    }
   ],
   "source": [
    "plt.plot(degree, np.median(train_score2, 1), color='red', label='train_score2')\n",
    "plt.plot(degree, np.median(val_score2, 1), color='blue', label='validation_score2')\n",
    "plt.plot(degree, np.median(train_score, 1), color='red', label='trainig_score', alpha=0.3, linestyle='dashed')\n",
    "plt.plot(degree, np.median(val_score, 1), color='blue', label='validation_score', alpha=0.3, linestyle='dashed')\n",
    "plt.legend(loc='lower center')\n",
    "plt.xlabel('degree')\n",
    "plt.ylabel('score')"
   ]
  },
  {
   "cell_type": "code",
   "execution_count": 43,
   "metadata": {},
   "outputs": [
    {
     "data": {
      "text/plain": "<Figure size 1152x432 with 2 Axes>",
      "image/png": "[encoded data removed]"
     },
     "metadata": {},
     "output_type": "display_data"
    }
   ],
   "source": [
    "# from sklearn.learning_curve import learning_curve\n",
    "from sklearn.model_selection import learning_curve\n",
    "fig, ax = plt.subplots(1, 2, figsize=(16, 6))\n",
    "fig.subplots_adjust(left=0.0625, right=0.95, wspace=0.1)\n",
    "for i, degree in enumerate([2,9]):\n",
    "    N, train_lc, val_lc = learning_curve(PolynomialRegression(degree),\n",
    "                                         X, y, cv=7,\n",
    "                                         train_sizes=np.linspace(0.3, 1, 25))\n",
    "    ax[i].plot(N, np.mean(train_lc, 1), color='blue', label='training score')\n",
    "    ax[i].plot(N, np.mean(val_lc, 1), color='red', label='validation score')\n",
    "    ax[i].hlines(np.mean([train_lc[-1], val_lc[-1]]), N[0], N[-1],\n",
    "                 color='gray', linestyle='dashed')\n",
    "    ax[i].set_ylim(0, 1)\n",
    "    ax[i].set_xlim(N[0], N[-1])\n",
    "    ax[i].set_xlabel('training size')\n",
    "    ax[i].set_ylabel('score')\n",
    "    ax[i].set_title('degree = {0}'.format(degree), size=14)\n",
    "    ax[i].legend(loc='best')"
   ]
  },
  {
   "cell_type": "code",
   "execution_count": 44,
   "metadata": {},
   "outputs": [],
   "source": [
    "learning_curve?"
   ]
  },
  {
   "cell_type": "markdown",
   "metadata": {},
   "source": [
    "### Grid search"
   ]
  },
  {
   "cell_type": "code",
   "execution_count": 45,
   "metadata": {},
   "outputs": [],
   "source": [
    "#from sklearn.grid_search import GridSearchCV\n",
    "from sklearn.model_selection import GridSearchCV"
   ]
  },
  {
   "cell_type": "code",
   "execution_count": 63,
   "metadata": {},
   "outputs": [],
   "source": [
    "param_grid={'polynomialfeatures__degree': np.arange(5),\n",
    "          'linearregression__fit_intercept': [True, False],\n",
    "          'linearregression__normalize': [True, False]}"
   ]
  },
  {
   "cell_type": "code",
   "execution_count": 54,
   "outputs": [
    {
     "data": {
      "text/plain": "{'polynomialfeatures__degree': array([ 0,  1,  2,  3,  4,  5,  6,  7,  8,  9, 10, 11, 12, 13, 14, 15, 16,\n        17, 18, 19, 20]),\n 'linearregression__fit_intercept': [True, False],\n 'linearregression__normalize': [True, False]}"
     },
     "execution_count": 54,
     "metadata": {},
     "output_type": "execute_result"
    }
   ],
   "source": [
    "param_grid"
   ],
   "metadata": {
    "collapsed": false,
    "pycharm": {
     "name": "#%%\n"
    }
   }
  },
  {
   "cell_type": "code",
   "execution_count": 64,
   "metadata": {},
   "outputs": [],
   "source": [
    "grid = GridSearchCV(PolynomialRegression(), param_grid, cv=7)"
   ]
  },
  {
   "cell_type": "code",
   "execution_count": 65,
   "metadata": {},
   "outputs": [
    {
     "data": {
      "text/plain": "GridSearchCV(cv=7,\n             estimator=Pipeline(steps=[('polynomialfeatures',\n                                        PolynomialFeatures()),\n                                       ('linearregression',\n                                        LinearRegression())]),\n             param_grid={'linearregression__fit_intercept': [True, False],\n                         'linearregression__normalize': [True, False],\n                         'polynomialfeatures__degree': array([0, 1, 2, 3, 4])})"
     },
     "execution_count": 65,
     "metadata": {},
     "output_type": "execute_result"
    }
   ],
   "source": [
    "grid"
   ]
  },
  {
   "cell_type": "code",
   "execution_count": 66,
   "metadata": {},
   "outputs": [
    {
     "data": {
      "text/plain": "GridSearchCV(cv=7,\n             estimator=Pipeline(steps=[('polynomialfeatures',\n                                        PolynomialFeatures()),\n                                       ('linearregression',\n                                        LinearRegression())]),\n             param_grid={'linearregression__fit_intercept': [True, False],\n                         'linearregression__normalize': [True, False],\n                         'polynomialfeatures__degree': array([0, 1, 2, 3, 4])})"
     },
     "execution_count": 66,
     "metadata": {},
     "output_type": "execute_result"
    }
   ],
   "source": [
    "grid.fit(X, y)"
   ]
  },
  {
   "cell_type": "code",
   "execution_count": 67,
   "metadata": {},
   "outputs": [
    {
     "data": {
      "text/plain": "{'linearregression__fit_intercept': False,\n 'linearregression__normalize': True,\n 'polynomialfeatures__degree': 4}"
     },
     "execution_count": 67,
     "metadata": {},
     "output_type": "execute_result"
    }
   ],
   "source": [
    "grid.best_params_"
   ]
  },
  {
   "cell_type": "code",
   "execution_count": 68,
   "metadata": {},
   "outputs": [],
   "source": [
    "model = grid.best_estimator_"
   ]
  },
  {
   "cell_type": "code",
   "execution_count": 76,
   "metadata": {},
   "outputs": [
    {
     "data": {
      "text/plain": "<Figure size 432x288 with 1 Axes>",
      "image/png": "[encoded data removed]"
     },
     "metadata": {},
     "output_type": "display_data"
    }
   ],
   "source": [
    "plt.scatter(X.ravel(), y)\n",
    "lim=plt.axis()\n",
    "y_test = model.fit(X, y).predict(X_test)\n",
    "plt.plot(X_test.ravel(), y_test)\n",
    "plt.axis(lim);"
   ]
  },
  {
   "cell_type": "markdown",
   "metadata": {},
   "source": [
    "## Feature engineering\n",
    "### Categorical features"
   ]
  },
  {
   "cell_type": "code",
   "execution_count": 7,
   "metadata": {},
   "outputs": [],
   "source": [
    "data = [\n",
    "    {'price': 850000, 'rooms': 4, 'neighborhood': 'Downtown'},\n",
    "    {'price': 700000, 'rooms': 3, 'neighborhood': 'Lychakiv'},\n",
    "    {'price': 650000, 'rooms': 3, 'neighborhood': 'Stryiskyi Park'},\n",
    "    {'price': 600000, 'rooms': 2, 'neighborhood': 'Sykhiv'}\n",
    "]"
   ]
  },
  {
   "cell_type": "code",
   "execution_count": 8,
   "metadata": {},
   "outputs": [],
   "source": [
    "from sklearn.feature_extraction import DictVectorizer"
   ]
  },
  {
   "cell_type": "code",
   "execution_count": 9,
   "metadata": {},
   "outputs": [],
   "source": [
    "vec = DictVectorizer(sparse=False, dtype=int)"
   ]
  },
  {
   "cell_type": "code",
   "execution_count": 10,
   "metadata": {},
   "outputs": [
    {
     "data": {
      "text/plain": "array([[     1,      0,      0,      0, 850000,      4],\n       [     0,      1,      0,      0, 700000,      3],\n       [     0,      0,      1,      0, 650000,      3],\n       [     0,      0,      0,      1, 600000,      2]])"
     },
     "execution_count": 10,
     "metadata": {},
     "output_type": "execute_result"
    }
   ],
   "source": [
    "vec.fit_transform(data)"
   ]
  },
  {
   "cell_type": "code",
   "execution_count": 11,
   "metadata": {},
   "outputs": [
    {
     "data": {
      "text/plain": "['neighborhood=Downtown',\n 'neighborhood=Lychakiv',\n 'neighborhood=Stryiskyi Park',\n 'neighborhood=Sykhiv',\n 'price',\n 'rooms']"
     },
     "execution_count": 11,
     "metadata": {},
     "output_type": "execute_result"
    }
   ],
   "source": [
    "vec.get_feature_names()"
   ]
  },
  {
   "cell_type": "markdown",
   "metadata": {},
   "source": [
    "### Text features"
   ]
  },
  {
   "cell_type": "code",
   "execution_count": 12,
   "metadata": {},
   "outputs": [],
   "source": [
    "sample=['problem of gambit',\n",
    "       'Queen''s gambit',\n",
    "       'another problem']"
   ]
  },
  {
   "cell_type": "code",
   "execution_count": 13,
   "metadata": {},
   "outputs": [],
   "source": [
    "from sklearn.feature_extraction.text import CountVectorizer"
   ]
  },
  {
   "cell_type": "code",
   "execution_count": 14,
   "metadata": {},
   "outputs": [],
   "source": [
    "vec = CountVectorizer()"
   ]
  },
  {
   "cell_type": "code",
   "execution_count": 15,
   "metadata": {},
   "outputs": [],
   "source": [
    "X = vec.fit_transform(sample)"
   ]
  },
  {
   "cell_type": "code",
   "execution_count": 16,
   "metadata": {},
   "outputs": [
    {
     "data": {
      "text/plain": "<3x5 sparse matrix of type '<class 'numpy.int64'>'\n\twith 7 stored elements in Compressed Sparse Row format>"
     },
     "execution_count": 16,
     "metadata": {},
     "output_type": "execute_result"
    }
   ],
   "source": [
    "X"
   ]
  },
  {
   "cell_type": "code",
   "execution_count": 17,
   "metadata": {},
   "outputs": [],
   "source": [
    "import pandas as pd"
   ]
  },
  {
   "cell_type": "code",
   "execution_count": 18,
   "metadata": {},
   "outputs": [
    {
     "data": {
      "text/plain": "   another  gambit  of  problem  queens\n0        0       1   1        1       0\n1        0       1   0        0       1\n2        1       0   0        1       0",
      "text/html": "<div>\n<style scoped>\n    .dataframe tbody tr th:only-of-type {\n        vertical-align: middle;\n    }\n\n    .dataframe tbody tr th {\n        vertical-align: top;\n    }\n\n    .dataframe thead th {\n        text-align: right;\n    }\n</style>\n<table border=\"1\" class=\"dataframe\">\n  <thead>\n    <tr style=\"text-align: right;\">\n      <th></th>\n      <th>another</th>\n      <th>gambit</th>\n      <th>of</th>\n      <th>problem</th>\n      <th>queens</th>\n    </tr>\n  </thead>\n  <tbody>\n    <tr>\n      <th>0</th>\n      <td>0</td>\n      <td>1</td>\n      <td>1</td>\n      <td>1</td>\n      <td>0</td>\n    </tr>\n    <tr>\n      <th>1</th>\n      <td>0</td>\n      <td>1</td>\n      <td>0</td>\n      <td>0</td>\n      <td>1</td>\n    </tr>\n    <tr>\n      <th>2</th>\n      <td>1</td>\n      <td>0</td>\n      <td>0</td>\n      <td>1</td>\n      <td>0</td>\n    </tr>\n  </tbody>\n</table>\n</div>"
     },
     "execution_count": 18,
     "metadata": {},
     "output_type": "execute_result"
    }
   ],
   "source": [
    "pd.DataFrame(X.toarray(),columns=vec.get_feature_names())"
   ]
  },
  {
   "cell_type": "code",
   "execution_count": 109,
   "metadata": {},
   "outputs": [],
   "source": [
    "from sklearn.feature_extraction.text import TfidfVectorizer"
   ]
  },
  {
   "cell_type": "code",
   "execution_count": 110,
   "metadata": {},
   "outputs": [],
   "source": [
    "vec = TfidfVectorizer()\n"
   ]
  },
  {
   "cell_type": "code",
   "execution_count": 111,
   "metadata": {},
   "outputs": [],
   "source": [
    "X = vec.fit_transform(sample)"
   ]
  },
  {
   "cell_type": "code",
   "execution_count": 112,
   "metadata": {},
   "outputs": [
    {
     "data": {
      "text/plain": [
       "<3x5 sparse matrix of type '<class 'numpy.float64'>'\n",
       "\twith 7 stored elements in Compressed Sparse Row format>"
      ]
     },
     "execution_count": 112,
     "metadata": {},
     "output_type": "execute_result"
    }
   ],
   "source": [
    "X"
   ]
  },
  {
   "cell_type": "code",
   "execution_count": 113,
   "metadata": {},
   "outputs": [
    {
     "data": {
      "text/html": [
       "<div>\n",
       "<style scoped>\n",
       "    .dataframe tbody tr th:only-of-type {\n",
       "        vertical-align: middle;\n",
       "    }\n",
       "\n",
       "    .dataframe tbody tr th {\n",
       "        vertical-align: top;\n",
       "    }\n",
       "\n",
       "    .dataframe thead th {\n",
       "        text-align: right;\n",
       "    }\n",
       "</style>\n",
       "<table border=\"1\" class=\"dataframe\">\n",
       "  <thead>\n",
       "    <tr style=\"text-align: right;\">\n",
       "      <th></th>\n",
       "      <th>another</th>\n",
       "      <th>gambit</th>\n",
       "      <th>of</th>\n",
       "      <th>problem</th>\n",
       "      <th>queens</th>\n",
       "    </tr>\n",
       "  </thead>\n",
       "  <tbody>\n",
       "    <tr>\n",
       "      <th>0</th>\n",
       "      <td>0.000000</td>\n",
       "      <td>0.517856</td>\n",
       "      <td>0.680919</td>\n",
       "      <td>0.517856</td>\n",
       "      <td>0.000000</td>\n",
       "    </tr>\n",
       "    <tr>\n",
       "      <th>1</th>\n",
       "      <td>0.000000</td>\n",
       "      <td>0.605349</td>\n",
       "      <td>0.000000</td>\n",
       "      <td>0.000000</td>\n",
       "      <td>0.795961</td>\n",
       "    </tr>\n",
       "    <tr>\n",
       "      <th>2</th>\n",
       "      <td>0.795961</td>\n",
       "      <td>0.000000</td>\n",
       "      <td>0.000000</td>\n",
       "      <td>0.605349</td>\n",
       "      <td>0.000000</td>\n",
       "    </tr>\n",
       "  </tbody>\n",
       "</table>\n",
       "</div>"
      ],
      "text/plain": [
       "    another    gambit        of   problem    queens\n",
       "0  0.000000  0.517856  0.680919  0.517856  0.000000\n",
       "1  0.000000  0.605349  0.000000  0.000000  0.795961\n",
       "2  0.795961  0.000000  0.000000  0.605349  0.000000"
      ]
     },
     "execution_count": 113,
     "metadata": {},
     "output_type": "execute_result"
    }
   ],
   "source": [
    "pd.DataFrame(X.toarray(), columns=vec.get_feature_names())"
   ]
  },
  {
   "cell_type": "markdown",
   "metadata": {},
   "source": [
    "### Derived features"
   ]
  },
  {
   "cell_type": "code",
   "execution_count": 19,
   "metadata": {},
   "outputs": [],
   "source": [
    "x = np.array([1, 2, 3, 4, 5])\n",
    "y = np.array([4, 2, 1, 3, 7])"
   ]
  },
  {
   "cell_type": "code",
   "execution_count": 22,
   "metadata": {},
   "outputs": [
    {
     "data": {
      "text/plain": "<matplotlib.collections.PathCollection at 0x1a0807c0>"
     },
     "execution_count": 22,
     "metadata": {},
     "output_type": "execute_result"
    },
    {
     "data": {
      "text/plain": "<Figure size 432x288 with 1 Axes>",
      "image/png": "[encoded data removed]"
     },
     "metadata": {
      "needs_background": "light"
     },
     "output_type": "display_data"
    }
   ],
   "source": [
    "plt.scatter(x, y)"
   ]
  },
  {
   "cell_type": "code",
   "execution_count": 24,
   "metadata": {},
   "outputs": [],
   "source": [
    "X = x[:, np.newaxis]"
   ]
  },
  {
   "cell_type": "code",
   "execution_count": 26,
   "metadata": {},
   "outputs": [],
   "source": [
    "model = LinearRegression().fit(X, y)"
   ]
  },
  {
   "cell_type": "code",
   "execution_count": 27,
   "metadata": {},
   "outputs": [],
   "source": [
    "yfit = model.predict(X)"
   ]
  },
  {
   "cell_type": "code",
   "execution_count": 28,
   "metadata": {},
   "outputs": [
    {
     "data": {
      "text/plain": "[<matplotlib.lines.Line2D at 0x1a188f70>]"
     },
     "execution_count": 28,
     "metadata": {},
     "output_type": "execute_result"
    },
    {
     "data": {
      "text/plain": "<Figure size 432x288 with 1 Axes>",
      "image/png": "[encoded data removed]"
     },
     "metadata": {
      "needs_background": "light"
     },
     "output_type": "display_data"
    }
   ],
   "source": [
    "plt.scatter(x, y)\n",
    "plt.plot(x, yfit)"
   ]
  },
  {
   "cell_type": "code",
   "execution_count": 29,
   "metadata": {},
   "outputs": [],
   "source": [
    "from sklearn.preprocessing import PolynomialFeatures"
   ]
  },
  {
   "cell_type": "code",
   "execution_count": 30,
   "metadata": {},
   "outputs": [],
   "source": [
    "poly = PolynomialFeatures(degree=3, include_bias=False)"
   ]
  },
  {
   "cell_type": "code",
   "execution_count": 31,
   "metadata": {},
   "outputs": [],
   "source": [
    "X2 = poly.fit_transform(X)"
   ]
  },
  {
   "cell_type": "code",
   "execution_count": 32,
   "metadata": {},
   "outputs": [
    {
     "data": {
      "text/plain": "array([[  1.,   1.,   1.],\n       [  2.,   4.,   8.],\n       [  3.,   9.,  27.],\n       [  4.,  16.,  64.],\n       [  5.,  25., 125.]])"
     },
     "execution_count": 32,
     "metadata": {},
     "output_type": "execute_result"
    }
   ],
   "source": [
    "X2"
   ]
  },
  {
   "cell_type": "code",
   "execution_count": 33,
   "metadata": {},
   "outputs": [],
   "source": [
    "model = LinearRegression().fit(X2, y)"
   ]
  },
  {
   "cell_type": "code",
   "execution_count": 147,
   "metadata": {},
   "outputs": [],
   "source": [
    "from sklearn.cluster import KMeans"
   ]
  },
  {
   "cell_type": "code",
   "execution_count": 34,
   "metadata": {},
   "outputs": [],
   "source": [
    "yfit = model.predict(X2)"
   ]
  },
  {
   "cell_type": "code",
   "execution_count": 35,
   "metadata": {},
   "outputs": [
    {
     "data": {
      "text/plain": "[<matplotlib.lines.Line2D at 0x1c1fe850>]"
     },
     "execution_count": 35,
     "metadata": {},
     "output_type": "execute_result"
    },
    {
     "data": {
      "text/plain": "<Figure size 432x288 with 1 Axes>",
      "image/png": "[encoded data removed]"
     },
     "metadata": {
      "needs_background": "light"
     },
     "output_type": "display_data"
    }
   ],
   "source": [
    "plt.scatter(x, y)\n",
    "plt.plot(x, yfit)"
   ]
  },
  {
   "cell_type": "code",
   "execution_count": 37,
   "metadata": {},
   "outputs": [],
   "source": [
    "from numpy import nan"
   ]
  },
  {
   "cell_type": "code",
   "execution_count": 38,
   "metadata": {},
   "outputs": [],
   "source": [
    "X = np.array([[nan, 0, 3],\n",
    "             [3, 7, 9],\n",
    "             [3, 5, 2],\n",
    "             [4, nan, 6],\n",
    "             [8, 8, 1]])"
   ]
  },
  {
   "cell_type": "code",
   "execution_count": 39,
   "metadata": {},
   "outputs": [],
   "source": [
    "y = np.array([14, 16, -1, 8, -5])"
   ]
  },
  {
   "cell_type": "markdown",
   "metadata": {},
   "source": [
    "### Data cleaning and pipelines"
   ]
  },
  {
   "cell_type": "code",
   "execution_count": 137,
   "metadata": {},
   "outputs": [],
   "source": [
    "# deprecated import\n",
    "# from sklearn.preprocessing import Imputer"
   ]
  },
  {
   "cell_type": "code",
   "execution_count": 40,
   "outputs": [],
   "source": [
    "from sklearn.impute import SimpleImputer"
   ],
   "metadata": {
    "collapsed": false,
    "pycharm": {
     "name": "#%%\n"
    }
   }
  },
  {
   "cell_type": "code",
   "execution_count": 41,
   "metadata": {},
   "outputs": [],
   "source": [
    "imp = SimpleImputer(strategy='mean')"
   ]
  },
  {
   "cell_type": "code",
   "execution_count": 42,
   "metadata": {},
   "outputs": [],
   "source": [
    "X2 = imp.fit_transform(X)"
   ]
  },
  {
   "cell_type": "code",
   "execution_count": 43,
   "outputs": [
    {
     "data": {
      "text/plain": "array([[4.5, 0. , 3. ],\n       [3. , 7. , 9. ],\n       [3. , 5. , 2. ],\n       [4. , 5. , 6. ],\n       [8. , 8. , 1. ]])"
     },
     "execution_count": 43,
     "metadata": {},
     "output_type": "execute_result"
    }
   ],
   "source": [
    "X2"
   ],
   "metadata": {
    "collapsed": false,
    "pycharm": {
     "name": "#%%\n"
    }
   }
  },
  {
   "cell_type": "code",
   "execution_count": 44,
   "metadata": {},
   "outputs": [],
   "source": [
    "X3 = imp.fit(X)"
   ]
  },
  {
   "cell_type": "code",
   "execution_count": 45,
   "metadata": {},
   "outputs": [
    {
     "data": {
      "text/plain": "array([[4.5, 0. , 3. ],\n       [3. , 7. , 9. ],\n       [3. , 5. , 2. ],\n       [4. , 5. , 6. ],\n       [8. , 8. , 1. ]])"
     },
     "execution_count": 45,
     "metadata": {},
     "output_type": "execute_result"
    }
   ],
   "source": [
    "X3.transform(X)"
   ]
  },
  {
   "cell_type": "code",
   "execution_count": 140,
   "metadata": {},
   "outputs": [
    {
     "data": {
      "text/plain": [
       "array([[4.5, 0. , 3. ],\n",
       "       [3. , 7. , 9. ],\n",
       "       [3. , 5. , 2. ],\n",
       "       [4. , 5. , 6. ],\n",
       "       [8. , 8. , 1. ]])"
      ]
     },
     "execution_count": 140,
     "metadata": {},
     "output_type": "execute_result"
    }
   ],
   "source": [
    "X2"
   ]
  },
  {
   "cell_type": "code",
   "execution_count": 47,
   "metadata": {},
   "outputs": [],
   "source": [
    "# build a pipeline that will perform as a model\n",
    "# it is useful when you need you have some repeated operations then you can build a pipeline you can invoke any time\n",
    "# basically it will execute each functiona inside the pipeline\n",
    "model = make_pipeline(SimpleImputer(strategy='mean'),\n",
    "                     PolynomialFeatures(degree=2),\n",
    "                     LinearRegression())"
   ]
  },
  {
   "cell_type": "code",
   "execution_count": 49,
   "metadata": {},
   "outputs": [
    {
     "data": {
      "text/plain": "Pipeline(steps=[('simpleimputer', SimpleImputer()),\n                ('polynomialfeatures', PolynomialFeatures()),\n                ('linearregression', LinearRegression())])"
     },
     "execution_count": 49,
     "metadata": {},
     "output_type": "execute_result"
    }
   ],
   "source": [
    "model.fit(X, y)"
   ]
  },
  {
   "cell_type": "code",
   "execution_count": 50,
   "metadata": {},
   "outputs": [
    {
     "data": {
      "text/plain": "array([14., 16., -1.,  8., -5.])"
     },
     "execution_count": 50,
     "metadata": {},
     "output_type": "execute_result"
    }
   ],
   "source": [
    "model.predict(X)"
   ]
  },
  {
   "cell_type": "code",
   "execution_count": null,
   "metadata": {},
   "outputs": [],
   "source": []
  }
 ],
 "metadata": {
  "kernelspec": {
   "display_name": "Python 3",
   "language": "python",
   "name": "python3"
  },
  "language_info": {
   "codemirror_mode": {
    "name": "ipython",
    "version": 3
   },
   "file_extension": ".py",
   "mimetype": "text/x-python",
   "name": "python",
   "nbconvert_exporter": "python",
   "pygments_lexer": "ipython3",
   "version": "3.7.0"
  }
 },
 "nbformat": 4,
 "nbformat_minor": 2
}