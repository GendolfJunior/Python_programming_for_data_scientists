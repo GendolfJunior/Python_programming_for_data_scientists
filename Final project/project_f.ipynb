{
 "cells": [
  {
   "cell_type": "code",
   "execution_count": 1,
   "metadata": {
    "collapsed": true
   },
   "outputs": [],
   "source": [
    "# import libs\n",
    "import pandas as pd\n",
    "import numpy as np\n",
    "import glob\n",
    "import os"
   ]
  },
  {
   "cell_type": "code",
   "execution_count": 42,
   "outputs": [],
   "source": [
    "path = 'data/*'\n",
    "all_files = glob.glob(path + \"/*.csv\")\n",
    "li = []\n",
    "\n",
    "# read data in the files, create data frame objects and add them to the list\n",
    "for filename in all_files:\n",
    "    df = pd.read_csv(filename, index_col=None, header=0)\n",
    "    df['filename'] = os.path.basename(filename)\n",
    "    li.append(df)\n",
    "\n",
    "# concatenate dataframes into a single frame\n",
    "frame = pd.concat(li, axis=0, ignore_index=True)"
   ],
   "metadata": {
    "collapsed": false,
    "pycharm": {
     "name": "#%%\n"
    }
   }
  },
  {
   "cell_type": "code",
   "execution_count": 39,
   "outputs": [
    {
     "data": {
      "text/plain": "    accelerometer_X  accelerometer_Y  accelerometer_Z    filename\n0          1.000776         4.616021         8.576031  idle-1.csv\n29        -0.119710        -0.124498         9.792285  idle-1.csv\n28        -0.167594        -0.124498         9.667787  idle-1.csv\n27        -0.124498        -0.114922         9.758766  idle-1.csv\n26        -0.114922        -0.158017         9.801862  idle-1.csv",
      "text/html": "<div>\n<style scoped>\n    .dataframe tbody tr th:only-of-type {\n        vertical-align: middle;\n    }\n\n    .dataframe tbody tr th {\n        vertical-align: top;\n    }\n\n    .dataframe thead th {\n        text-align: right;\n    }\n</style>\n<table border=\"1\" class=\"dataframe\">\n  <thead>\n    <tr style=\"text-align: right;\">\n      <th></th>\n      <th>accelerometer_X</th>\n      <th>accelerometer_Y</th>\n      <th>accelerometer_Z</th>\n      <th>filename</th>\n    </tr>\n  </thead>\n  <tbody>\n    <tr>\n      <th>0</th>\n      <td>1.000776</td>\n      <td>4.616021</td>\n      <td>8.576031</td>\n      <td>idle-1.csv</td>\n    </tr>\n    <tr>\n      <th>29</th>\n      <td>-0.119710</td>\n      <td>-0.124498</td>\n      <td>9.792285</td>\n      <td>idle-1.csv</td>\n    </tr>\n    <tr>\n      <th>28</th>\n      <td>-0.167594</td>\n      <td>-0.124498</td>\n      <td>9.667787</td>\n      <td>idle-1.csv</td>\n    </tr>\n    <tr>\n      <th>27</th>\n      <td>-0.124498</td>\n      <td>-0.114922</td>\n      <td>9.758766</td>\n      <td>idle-1.csv</td>\n    </tr>\n    <tr>\n      <th>26</th>\n      <td>-0.114922</td>\n      <td>-0.158017</td>\n      <td>9.801862</td>\n      <td>idle-1.csv</td>\n    </tr>\n  </tbody>\n</table>\n</div>"
     },
     "execution_count": 39,
     "metadata": {},
     "output_type": "execute_result"
    }
   ],
   "source": [
    "frame.head()"
   ],
   "metadata": {
    "collapsed": false,
    "pycharm": {
     "name": "#%%\n"
    }
   }
  },
  {
   "cell_type": "code",
   "execution_count": 40,
   "outputs": [
    {
     "data": {
      "text/plain": "        accelerometer_X  accelerometer_Y  accelerometer_Z         filename\n193831         4.711789       -14.963760         6.660670  walking-999.csv\n193830         4.161122       -10.208876         0.962469  walking-999.csv\n193858        -2.978387        -3.050213         1.273715  walking-999.csv\n193843         3.418920        -6.675034         1.158794  walking-999.csv\n193859        -4.347870        -9.926360        -1.642422  walking-999.csv",
      "text/html": "<div>\n<style scoped>\n    .dataframe tbody tr th:only-of-type {\n        vertical-align: middle;\n    }\n\n    .dataframe tbody tr th {\n        vertical-align: top;\n    }\n\n    .dataframe thead th {\n        text-align: right;\n    }\n</style>\n<table border=\"1\" class=\"dataframe\">\n  <thead>\n    <tr style=\"text-align: right;\">\n      <th></th>\n      <th>accelerometer_X</th>\n      <th>accelerometer_Y</th>\n      <th>accelerometer_Z</th>\n      <th>filename</th>\n    </tr>\n  </thead>\n  <tbody>\n    <tr>\n      <th>193831</th>\n      <td>4.711789</td>\n      <td>-14.963760</td>\n      <td>6.660670</td>\n      <td>walking-999.csv</td>\n    </tr>\n    <tr>\n      <th>193830</th>\n      <td>4.161122</td>\n      <td>-10.208876</td>\n      <td>0.962469</td>\n      <td>walking-999.csv</td>\n    </tr>\n    <tr>\n      <th>193858</th>\n      <td>-2.978387</td>\n      <td>-3.050213</td>\n      <td>1.273715</td>\n      <td>walking-999.csv</td>\n    </tr>\n    <tr>\n      <th>193843</th>\n      <td>3.418920</td>\n      <td>-6.675034</td>\n      <td>1.158794</td>\n      <td>walking-999.csv</td>\n    </tr>\n    <tr>\n      <th>193859</th>\n      <td>-4.347870</td>\n      <td>-9.926360</td>\n      <td>-1.642422</td>\n      <td>walking-999.csv</td>\n    </tr>\n  </tbody>\n</table>\n</div>"
     },
     "execution_count": 40,
     "metadata": {},
     "output_type": "execute_result"
    }
   ],
   "source": [
    "frame.tail()"
   ],
   "metadata": {
    "collapsed": false,
    "pycharm": {
     "name": "#%%\n"
    }
   }
  },
  {
   "cell_type": "code",
   "execution_count": 43,
   "outputs": [
    {
     "data": {
      "text/plain": "        accelerometer_X  accelerometer_Y  accelerometer_Z          filename\n166740         5.204995       -13.086706        -1.503559  walking-1850.csv\n166741        -0.359130       -19.445705       -17.219100  walking-1850.csv\n166742         5.726931       -13.718776        -3.974375  walking-1850.csv\n166743        -2.715025       -11.405977        -5.913678  walking-1850.csv\n166744        -0.981623       -10.491392        -4.481945  walking-1850.csv\n166745        -4.175488        -1.302446         4.089296  walking-1850.csv\n166746        -2.006341        -5.980716        -0.641646  walking-1850.csv\n166747         3.160346       -10.357317        -1.221043  walking-1850.csv\n166748        -4.299986        -8.633492         6.526594  walking-1850.csv\n166749         3.088520       -16.859968        -3.840299  walking-1850.csv\n166750        12.952631       -25.014620         0.119710  walking-1850.csv\n166751        -5.808333       -13.986926        -2.959233  walking-1850.csv\n166752        -1.187524        -6.244078        -5.688623  walking-1850.csv\n166753         8.164228       -11.631032        -1.034295  walking-1850.csv\n166754        -1.268927        -0.861913         3.031059  walking-1850.csv\n166755         2.777274        -7.369353         0.407014  walking-1850.csv\n166756         1.000776        -5.659893         5.281609  walking-1850.csv\n166757         2.398990       -10.424355        -3.351882  walking-1850.csv\n166758         1.786075        -8.350976         2.614468  walking-1850.csv\n166759         4.735731        -8.250418         6.019023  walking-1850.csv\n166760        -2.178723       -13.215993        -8.719683  walking-1850.csv\n166761        -3.347094        -9.045294       -10.663774  walking-1850.csv\n166762         8.101979        -8.805874        -0.828394  walking-1850.csv\n166763        -2.202665        -4.855441         2.557007  walking-1850.csv\n166764         5.329493        -5.319916        -0.445322  walking-1850.csv\n166765         4.529830       -12.488156        -0.378284  walking-1850.csv\n166766         6.871359       -11.037270         4.620809  walking-1850.csv\n166767         7.259220        -6.244078         1.355118  walking-1850.csv\n166768         6.143522         0.550666        11.391612  walking-1850.csv\n166769         5.573702         1.230620         7.307104  walking-1850.csv",
      "text/html": "<div>\n<style scoped>\n    .dataframe tbody tr th:only-of-type {\n        vertical-align: middle;\n    }\n\n    .dataframe tbody tr th {\n        vertical-align: top;\n    }\n\n    .dataframe thead th {\n        text-align: right;\n    }\n</style>\n<table border=\"1\" class=\"dataframe\">\n  <thead>\n    <tr style=\"text-align: right;\">\n      <th></th>\n      <th>accelerometer_X</th>\n      <th>accelerometer_Y</th>\n      <th>accelerometer_Z</th>\n      <th>filename</th>\n    </tr>\n  </thead>\n  <tbody>\n    <tr>\n      <th>166740</th>\n      <td>5.204995</td>\n      <td>-13.086706</td>\n      <td>-1.503559</td>\n      <td>walking-1850.csv</td>\n    </tr>\n    <tr>\n      <th>166741</th>\n      <td>-0.359130</td>\n      <td>-19.445705</td>\n      <td>-17.219100</td>\n      <td>walking-1850.csv</td>\n    </tr>\n    <tr>\n      <th>166742</th>\n      <td>5.726931</td>\n      <td>-13.718776</td>\n      <td>-3.974375</td>\n      <td>walking-1850.csv</td>\n    </tr>\n    <tr>\n      <th>166743</th>\n      <td>-2.715025</td>\n      <td>-11.405977</td>\n      <td>-5.913678</td>\n      <td>walking-1850.csv</td>\n    </tr>\n    <tr>\n      <th>166744</th>\n      <td>-0.981623</td>\n      <td>-10.491392</td>\n      <td>-4.481945</td>\n      <td>walking-1850.csv</td>\n    </tr>\n    <tr>\n      <th>166745</th>\n      <td>-4.175488</td>\n      <td>-1.302446</td>\n      <td>4.089296</td>\n      <td>walking-1850.csv</td>\n    </tr>\n    <tr>\n      <th>166746</th>\n      <td>-2.006341</td>\n      <td>-5.980716</td>\n      <td>-0.641646</td>\n      <td>walking-1850.csv</td>\n    </tr>\n    <tr>\n      <th>166747</th>\n      <td>3.160346</td>\n      <td>-10.357317</td>\n      <td>-1.221043</td>\n      <td>walking-1850.csv</td>\n    </tr>\n    <tr>\n      <th>166748</th>\n      <td>-4.299986</td>\n      <td>-8.633492</td>\n      <td>6.526594</td>\n      <td>walking-1850.csv</td>\n    </tr>\n    <tr>\n      <th>166749</th>\n      <td>3.088520</td>\n      <td>-16.859968</td>\n      <td>-3.840299</td>\n      <td>walking-1850.csv</td>\n    </tr>\n    <tr>\n      <th>166750</th>\n      <td>12.952631</td>\n      <td>-25.014620</td>\n      <td>0.119710</td>\n      <td>walking-1850.csv</td>\n    </tr>\n    <tr>\n      <th>166751</th>\n      <td>-5.808333</td>\n      <td>-13.986926</td>\n      <td>-2.959233</td>\n      <td>walking-1850.csv</td>\n    </tr>\n    <tr>\n      <th>166752</th>\n      <td>-1.187524</td>\n      <td>-6.244078</td>\n      <td>-5.688623</td>\n      <td>walking-1850.csv</td>\n    </tr>\n    <tr>\n      <th>166753</th>\n      <td>8.164228</td>\n      <td>-11.631032</td>\n      <td>-1.034295</td>\n      <td>walking-1850.csv</td>\n    </tr>\n    <tr>\n      <th>166754</th>\n      <td>-1.268927</td>\n      <td>-0.861913</td>\n      <td>3.031059</td>\n      <td>walking-1850.csv</td>\n    </tr>\n    <tr>\n      <th>166755</th>\n      <td>2.777274</td>\n      <td>-7.369353</td>\n      <td>0.407014</td>\n      <td>walking-1850.csv</td>\n    </tr>\n    <tr>\n      <th>166756</th>\n      <td>1.000776</td>\n      <td>-5.659893</td>\n      <td>5.281609</td>\n      <td>walking-1850.csv</td>\n    </tr>\n    <tr>\n      <th>166757</th>\n      <td>2.398990</td>\n      <td>-10.424355</td>\n      <td>-3.351882</td>\n      <td>walking-1850.csv</td>\n    </tr>\n    <tr>\n      <th>166758</th>\n      <td>1.786075</td>\n      <td>-8.350976</td>\n      <td>2.614468</td>\n      <td>walking-1850.csv</td>\n    </tr>\n    <tr>\n      <th>166759</th>\n      <td>4.735731</td>\n      <td>-8.250418</td>\n      <td>6.019023</td>\n      <td>walking-1850.csv</td>\n    </tr>\n    <tr>\n      <th>166760</th>\n      <td>-2.178723</td>\n      <td>-13.215993</td>\n      <td>-8.719683</td>\n      <td>walking-1850.csv</td>\n    </tr>\n    <tr>\n      <th>166761</th>\n      <td>-3.347094</td>\n      <td>-9.045294</td>\n      <td>-10.663774</td>\n      <td>walking-1850.csv</td>\n    </tr>\n    <tr>\n      <th>166762</th>\n      <td>8.101979</td>\n      <td>-8.805874</td>\n      <td>-0.828394</td>\n      <td>walking-1850.csv</td>\n    </tr>\n    <tr>\n      <th>166763</th>\n      <td>-2.202665</td>\n      <td>-4.855441</td>\n      <td>2.557007</td>\n      <td>walking-1850.csv</td>\n    </tr>\n    <tr>\n      <th>166764</th>\n      <td>5.329493</td>\n      <td>-5.319916</td>\n      <td>-0.445322</td>\n      <td>walking-1850.csv</td>\n    </tr>\n    <tr>\n      <th>166765</th>\n      <td>4.529830</td>\n      <td>-12.488156</td>\n      <td>-0.378284</td>\n      <td>walking-1850.csv</td>\n    </tr>\n    <tr>\n      <th>166766</th>\n      <td>6.871359</td>\n      <td>-11.037270</td>\n      <td>4.620809</td>\n      <td>walking-1850.csv</td>\n    </tr>\n    <tr>\n      <th>166767</th>\n      <td>7.259220</td>\n      <td>-6.244078</td>\n      <td>1.355118</td>\n      <td>walking-1850.csv</td>\n    </tr>\n    <tr>\n      <th>166768</th>\n      <td>6.143522</td>\n      <td>0.550666</td>\n      <td>11.391612</td>\n      <td>walking-1850.csv</td>\n    </tr>\n    <tr>\n      <th>166769</th>\n      <td>5.573702</td>\n      <td>1.230620</td>\n      <td>7.307104</td>\n      <td>walking-1850.csv</td>\n    </tr>\n  </tbody>\n</table>\n</div>"
     },
     "execution_count": 43,
     "metadata": {},
     "output_type": "execute_result"
    }
   ],
   "source": [
    "frame.loc[frame['filename'] == 'walking-1850.csv']"
   ],
   "metadata": {
    "collapsed": false,
    "pycharm": {
     "name": "#%%\n"
    }
   }
  },
  {
   "cell_type": "code",
   "execution_count": 30,
   "outputs": [
    {
     "data": {
      "text/plain": "1.9235497301660986"
     },
     "execution_count": 30,
     "metadata": {},
     "output_type": "execute_result"
    }
   ],
   "source": [
    "frame['accelerometer_X'].mean()"
   ],
   "metadata": {
    "collapsed": false,
    "pycharm": {
     "name": "#%%\n"
    }
   }
  },
  {
   "cell_type": "code",
   "execution_count": 29,
   "outputs": [
    {
     "data": {
      "text/plain": "accelerometer_X    193860\naccelerometer_Y    193860\naccelerometer_Z    193860\ndtype: int64"
     },
     "execution_count": 29,
     "metadata": {},
     "output_type": "execute_result"
    }
   ],
   "source": [
    "frame.count()"
   ],
   "metadata": {
    "collapsed": false,
    "pycharm": {
     "name": "#%%\n"
    }
   }
  }
 ],
 "metadata": {
  "kernelspec": {
   "display_name": "Python 3",
   "language": "python",
   "name": "python3"
  },
  "language_info": {
   "codemirror_mode": {
    "name": "ipython",
    "version": 2
   },
   "file_extension": ".py",
   "mimetype": "text/x-python",
   "name": "python",
   "nbconvert_exporter": "python",
   "pygments_lexer": "ipython2",
   "version": "2.7.6"
  }
 },
 "nbformat": 4,
 "nbformat_minor": 0
}