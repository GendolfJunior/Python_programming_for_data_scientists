{
 "cells": [
  {
   "cell_type": "code",
   "execution_count": 2,
   "metadata": {
    "collapsed": true
   },
   "outputs": [],
   "source": [
    "# import libs\n",
    "import pandas as pd\n",
    "import numpy as np\n",
    "import glob\n",
    "import os\n",
    "import re"
   ]
  },
  {
   "cell_type": "code",
   "execution_count": 23,
   "outputs": [
    {
     "data": {
      "text/plain": "re.compile(r'^[a-zA-Z]*', re.UNICODE)"
     },
     "execution_count": 23,
     "metadata": {},
     "output_type": "execute_result"
    }
   ],
   "source": [
    "# https://regex101.com/r/abScq8/2\n",
    "# building REGEX to search in the string begining alpha-characters\n",
    "regex = re.compile('^[a-zA-Z]*')\n",
    "regex"
   ],
   "metadata": {
    "collapsed": false,
    "pycharm": {
     "name": "#%%\n"
    }
   }
  },
  {
   "cell_type": "code",
   "execution_count": 22,
   "outputs": [
    {
     "data": {
      "text/plain": "        accelerometer_X  accelerometer_Y  accelerometer_Z filename\n0              1.000776         4.616021         8.576031     idle\n1              0.718261         4.209007         8.446744     idle\n2             -0.909797        -0.282516         9.203311     idle\n3              5.099650         0.148441         8.418014     idle\n4              1.762132        -0.162806         9.251195     idle\n...                 ...              ...              ...      ...\n193855         5.109226       -15.452178        -1.470040  walking\n193856         6.373365       -11.741165        -8.226476  walking\n193857         3.289633        -9.993398        -0.383072  walking\n193858        -2.978387        -3.050213         1.273715  walking\n193859        -4.347870        -9.926360        -1.642422  walking\n\n[193860 rows x 4 columns]",
      "text/html": "<div>\n<style scoped>\n    .dataframe tbody tr th:only-of-type {\n        vertical-align: middle;\n    }\n\n    .dataframe tbody tr th {\n        vertical-align: top;\n    }\n\n    .dataframe thead th {\n        text-align: right;\n    }\n</style>\n<table border=\"1\" class=\"dataframe\">\n  <thead>\n    <tr style=\"text-align: right;\">\n      <th></th>\n      <th>accelerometer_X</th>\n      <th>accelerometer_Y</th>\n      <th>accelerometer_Z</th>\n      <th>filename</th>\n    </tr>\n  </thead>\n  <tbody>\n    <tr>\n      <th>0</th>\n      <td>1.000776</td>\n      <td>4.616021</td>\n      <td>8.576031</td>\n      <td>idle</td>\n    </tr>\n    <tr>\n      <th>1</th>\n      <td>0.718261</td>\n      <td>4.209007</td>\n      <td>8.446744</td>\n      <td>idle</td>\n    </tr>\n    <tr>\n      <th>2</th>\n      <td>-0.909797</td>\n      <td>-0.282516</td>\n      <td>9.203311</td>\n      <td>idle</td>\n    </tr>\n    <tr>\n      <th>3</th>\n      <td>5.099650</td>\n      <td>0.148441</td>\n      <td>8.418014</td>\n      <td>idle</td>\n    </tr>\n    <tr>\n      <th>4</th>\n      <td>1.762132</td>\n      <td>-0.162806</td>\n      <td>9.251195</td>\n      <td>idle</td>\n    </tr>\n    <tr>\n      <th>...</th>\n      <td>...</td>\n      <td>...</td>\n      <td>...</td>\n      <td>...</td>\n    </tr>\n    <tr>\n      <th>193855</th>\n      <td>5.109226</td>\n      <td>-15.452178</td>\n      <td>-1.470040</td>\n      <td>walking</td>\n    </tr>\n    <tr>\n      <th>193856</th>\n      <td>6.373365</td>\n      <td>-11.741165</td>\n      <td>-8.226476</td>\n      <td>walking</td>\n    </tr>\n    <tr>\n      <th>193857</th>\n      <td>3.289633</td>\n      <td>-9.993398</td>\n      <td>-0.383072</td>\n      <td>walking</td>\n    </tr>\n    <tr>\n      <th>193858</th>\n      <td>-2.978387</td>\n      <td>-3.050213</td>\n      <td>1.273715</td>\n      <td>walking</td>\n    </tr>\n    <tr>\n      <th>193859</th>\n      <td>-4.347870</td>\n      <td>-9.926360</td>\n      <td>-1.642422</td>\n      <td>walking</td>\n    </tr>\n  </tbody>\n</table>\n<p>193860 rows × 4 columns</p>\n</div>"
     },
     "execution_count": 22,
     "metadata": {},
     "output_type": "execute_result"
    }
   ],
   "source": [
    "# reading all file and building a single dataframe\n",
    "path = 'data/*'\n",
    "all_files = glob.glob(path + \"/*.csv\")\n",
    "li = []\n",
    "\n",
    "# read data in the files, create data frame objects and add them to the list\n",
    "for filename in all_files:\n",
    "    df = pd.read_csv(filename, index_col=None, header=0)\n",
    "    full_name = os.path.basename(filename)\n",
    "\n",
    "    # extracting from filename only first word in the name\n",
    "    new_name = regex.match(full_name).group()\n",
    "\n",
    "    df['filename'] = new_name\n",
    "    li.append(df)\n",
    "\n",
    "# concatenate dataframes into a single frame\n",
    "frame = pd.concat(li, axis=0, ignore_index=True)\n",
    "frame"
   ],
   "metadata": {
    "collapsed": false,
    "pycharm": {
     "name": "#%%\n"
    }
   }
  },
  {
   "cell_type": "code",
   "execution_count": 60,
   "outputs": [
    {
     "data": {
      "text/plain": "193860"
     },
     "execution_count": 60,
     "metadata": {},
     "output_type": "execute_result"
    }
   ],
   "source": [
    "len(frame)"
   ],
   "metadata": {
    "collapsed": false,
    "pycharm": {
     "name": "#%%\n"
    }
   }
  },
  {
   "cell_type": "code",
   "execution_count": 24,
   "outputs": [
    {
     "data": {
      "text/plain": "   accelerometer_X  accelerometer_Y  accelerometer_Z filename\n0         1.000776         4.616021         8.576031     idle\n1         0.718261         4.209007         8.446744     idle\n2        -0.909797        -0.282516         9.203311     idle\n3         5.099650         0.148441         8.418014     idle\n4         1.762132        -0.162806         9.251195     idle",
      "text/html": "<div>\n<style scoped>\n    .dataframe tbody tr th:only-of-type {\n        vertical-align: middle;\n    }\n\n    .dataframe tbody tr th {\n        vertical-align: top;\n    }\n\n    .dataframe thead th {\n        text-align: right;\n    }\n</style>\n<table border=\"1\" class=\"dataframe\">\n  <thead>\n    <tr style=\"text-align: right;\">\n      <th></th>\n      <th>accelerometer_X</th>\n      <th>accelerometer_Y</th>\n      <th>accelerometer_Z</th>\n      <th>filename</th>\n    </tr>\n  </thead>\n  <tbody>\n    <tr>\n      <th>0</th>\n      <td>1.000776</td>\n      <td>4.616021</td>\n      <td>8.576031</td>\n      <td>idle</td>\n    </tr>\n    <tr>\n      <th>1</th>\n      <td>0.718261</td>\n      <td>4.209007</td>\n      <td>8.446744</td>\n      <td>idle</td>\n    </tr>\n    <tr>\n      <th>2</th>\n      <td>-0.909797</td>\n      <td>-0.282516</td>\n      <td>9.203311</td>\n      <td>idle</td>\n    </tr>\n    <tr>\n      <th>3</th>\n      <td>5.099650</td>\n      <td>0.148441</td>\n      <td>8.418014</td>\n      <td>idle</td>\n    </tr>\n    <tr>\n      <th>4</th>\n      <td>1.762132</td>\n      <td>-0.162806</td>\n      <td>9.251195</td>\n      <td>idle</td>\n    </tr>\n  </tbody>\n</table>\n</div>"
     },
     "execution_count": 24,
     "metadata": {},
     "output_type": "execute_result"
    }
   ],
   "source": [
    "frame.head()"
   ],
   "metadata": {
    "collapsed": false,
    "pycharm": {
     "name": "#%%\n"
    }
   }
  },
  {
   "cell_type": "code",
   "execution_count": 25,
   "outputs": [
    {
     "data": {
      "text/plain": "        accelerometer_X  accelerometer_Y  accelerometer_Z filename\n193855         5.109226       -15.452178        -1.470040  walking\n193856         6.373365       -11.741165        -8.226476  walking\n193857         3.289633        -9.993398        -0.383072  walking\n193858        -2.978387        -3.050213         1.273715  walking\n193859        -4.347870        -9.926360        -1.642422  walking",
      "text/html": "<div>\n<style scoped>\n    .dataframe tbody tr th:only-of-type {\n        vertical-align: middle;\n    }\n\n    .dataframe tbody tr th {\n        vertical-align: top;\n    }\n\n    .dataframe thead th {\n        text-align: right;\n    }\n</style>\n<table border=\"1\" class=\"dataframe\">\n  <thead>\n    <tr style=\"text-align: right;\">\n      <th></th>\n      <th>accelerometer_X</th>\n      <th>accelerometer_Y</th>\n      <th>accelerometer_Z</th>\n      <th>filename</th>\n    </tr>\n  </thead>\n  <tbody>\n    <tr>\n      <th>193855</th>\n      <td>5.109226</td>\n      <td>-15.452178</td>\n      <td>-1.470040</td>\n      <td>walking</td>\n    </tr>\n    <tr>\n      <th>193856</th>\n      <td>6.373365</td>\n      <td>-11.741165</td>\n      <td>-8.226476</td>\n      <td>walking</td>\n    </tr>\n    <tr>\n      <th>193857</th>\n      <td>3.289633</td>\n      <td>-9.993398</td>\n      <td>-0.383072</td>\n      <td>walking</td>\n    </tr>\n    <tr>\n      <th>193858</th>\n      <td>-2.978387</td>\n      <td>-3.050213</td>\n      <td>1.273715</td>\n      <td>walking</td>\n    </tr>\n    <tr>\n      <th>193859</th>\n      <td>-4.347870</td>\n      <td>-9.926360</td>\n      <td>-1.642422</td>\n      <td>walking</td>\n    </tr>\n  </tbody>\n</table>\n</div>"
     },
     "execution_count": 25,
     "metadata": {},
     "output_type": "execute_result"
    }
   ],
   "source": [
    "frame.tail()"
   ],
   "metadata": {
    "collapsed": false,
    "pycharm": {
     "name": "#%%\n"
    }
   }
  },
  {
   "cell_type": "code",
   "execution_count": 28,
   "outputs": [
    {
     "data": {
      "text/plain": "        accelerometer_X  accelerometer_Y  accelerometer_Z filename\n138360         2.322376         3.643975        11.827356  walking\n138361         1.781286         4.668694         6.148310  walking\n138362         7.963115        -4.113238         1.359907  walking\n138363         1.996764        -1.398214         1.163582  walking\n138364         5.185841       -12.143391         4.687847  walking\n...                 ...              ...              ...      ...\n193855         5.109226       -15.452178        -1.470040  walking\n193856         6.373365       -11.741165        -8.226476  walking\n193857         3.289633        -9.993398        -0.383072  walking\n193858        -2.978387        -3.050213         1.273715  walking\n193859        -4.347870        -9.926360        -1.642422  walking\n\n[55500 rows x 4 columns]",
      "text/html": "<div>\n<style scoped>\n    .dataframe tbody tr th:only-of-type {\n        vertical-align: middle;\n    }\n\n    .dataframe tbody tr th {\n        vertical-align: top;\n    }\n\n    .dataframe thead th {\n        text-align: right;\n    }\n</style>\n<table border=\"1\" class=\"dataframe\">\n  <thead>\n    <tr style=\"text-align: right;\">\n      <th></th>\n      <th>accelerometer_X</th>\n      <th>accelerometer_Y</th>\n      <th>accelerometer_Z</th>\n      <th>filename</th>\n    </tr>\n  </thead>\n  <tbody>\n    <tr>\n      <th>138360</th>\n      <td>2.322376</td>\n      <td>3.643975</td>\n      <td>11.827356</td>\n      <td>walking</td>\n    </tr>\n    <tr>\n      <th>138361</th>\n      <td>1.781286</td>\n      <td>4.668694</td>\n      <td>6.148310</td>\n      <td>walking</td>\n    </tr>\n    <tr>\n      <th>138362</th>\n      <td>7.963115</td>\n      <td>-4.113238</td>\n      <td>1.359907</td>\n      <td>walking</td>\n    </tr>\n    <tr>\n      <th>138363</th>\n      <td>1.996764</td>\n      <td>-1.398214</td>\n      <td>1.163582</td>\n      <td>walking</td>\n    </tr>\n    <tr>\n      <th>138364</th>\n      <td>5.185841</td>\n      <td>-12.143391</td>\n      <td>4.687847</td>\n      <td>walking</td>\n    </tr>\n    <tr>\n      <th>...</th>\n      <td>...</td>\n      <td>...</td>\n      <td>...</td>\n      <td>...</td>\n    </tr>\n    <tr>\n      <th>193855</th>\n      <td>5.109226</td>\n      <td>-15.452178</td>\n      <td>-1.470040</td>\n      <td>walking</td>\n    </tr>\n    <tr>\n      <th>193856</th>\n      <td>6.373365</td>\n      <td>-11.741165</td>\n      <td>-8.226476</td>\n      <td>walking</td>\n    </tr>\n    <tr>\n      <th>193857</th>\n      <td>3.289633</td>\n      <td>-9.993398</td>\n      <td>-0.383072</td>\n      <td>walking</td>\n    </tr>\n    <tr>\n      <th>193858</th>\n      <td>-2.978387</td>\n      <td>-3.050213</td>\n      <td>1.273715</td>\n      <td>walking</td>\n    </tr>\n    <tr>\n      <th>193859</th>\n      <td>-4.347870</td>\n      <td>-9.926360</td>\n      <td>-1.642422</td>\n      <td>walking</td>\n    </tr>\n  </tbody>\n</table>\n<p>55500 rows × 4 columns</p>\n</div>"
     },
     "execution_count": 28,
     "metadata": {},
     "output_type": "execute_result"
    }
   ],
   "source": [
    "frame.loc[frame['filename'] == 'walking']"
   ],
   "metadata": {
    "collapsed": false,
    "pycharm": {
     "name": "#%%\n"
    }
   }
  },
  {
   "cell_type": "code",
   "execution_count": 30,
   "outputs": [
    {
     "data": {
      "text/plain": "1.9235497301660986"
     },
     "execution_count": 30,
     "metadata": {},
     "output_type": "execute_result"
    }
   ],
   "source": [
    "frame['accelerometer_X'].mean()"
   ],
   "metadata": {
    "collapsed": false,
    "pycharm": {
     "name": "#%%\n"
    }
   }
  },
  {
   "cell_type": "code",
   "execution_count": 49,
   "outputs": [
    {
     "data": {
      "text/plain": "0         1.000776\n1         0.718261\n2        -0.909797\n3         5.099650\n4         1.762132\n            ...   \n193855    5.109226\n193856    6.373365\n193857    3.289633\n193858   -2.978387\n193859   -4.347870\nName: accelerometer_X, Length: 193860, dtype: float64"
     },
     "execution_count": 49,
     "metadata": {},
     "output_type": "execute_result"
    }
   ],
   "source": [
    "frame['accelerometer_X']\n"
   ],
   "metadata": {
    "collapsed": false,
    "pycharm": {
     "name": "#%%\n"
    }
   }
  },
  {
   "cell_type": "code",
   "execution_count": 43,
   "outputs": [
    {
     "ename": "TypeError",
     "evalue": "unhashable type: 'list'",
     "output_type": "error",
     "traceback": [
      "\u001B[1;31m---------------------------------------------------------------------------\u001B[0m",
      "\u001B[1;31mTypeError\u001B[0m                                 Traceback (most recent call last)",
      "\u001B[1;32m<ipython-input-43-cfb0a3efad3a>\u001B[0m in \u001B[0;36m<module>\u001B[1;34m\u001B[0m\n\u001B[1;32m----> 1\u001B[1;33m \u001B[0mframe\u001B[0m\u001B[1;33m.\u001B[0m\u001B[0mcount\u001B[0m\u001B[1;33m(\u001B[0m\u001B[1;33m[\u001B[0m\u001B[1;34m'filename'\u001B[0m\u001B[1;33m]\u001B[0m\u001B[1;33m)\u001B[0m\u001B[1;33m\u001B[0m\u001B[1;33m\u001B[0m\u001B[0m\n\u001B[0m",
      "\u001B[1;32md:\\andriy\\university\\ucu\\master2020\\python\\python for ds\\venv\\lib\\site-packages\\pandas\\core\\frame.py\u001B[0m in \u001B[0;36mcount\u001B[1;34m(self, axis, level, numeric_only)\u001B[0m\n\u001B[0;32m   8457\u001B[0m         \u001B[0mMyla\u001B[0m      \u001B[1;36m1\u001B[0m\u001B[1;33m\u001B[0m\u001B[1;33m\u001B[0m\u001B[0m\n\u001B[0;32m   8458\u001B[0m         \"\"\"\n\u001B[1;32m-> 8459\u001B[1;33m         \u001B[0maxis\u001B[0m \u001B[1;33m=\u001B[0m \u001B[0mself\u001B[0m\u001B[1;33m.\u001B[0m\u001B[0m_get_axis_number\u001B[0m\u001B[1;33m(\u001B[0m\u001B[0maxis\u001B[0m\u001B[1;33m)\u001B[0m\u001B[1;33m\u001B[0m\u001B[1;33m\u001B[0m\u001B[0m\n\u001B[0m\u001B[0;32m   8460\u001B[0m         \u001B[1;32mif\u001B[0m \u001B[0mlevel\u001B[0m \u001B[1;32mis\u001B[0m \u001B[1;32mnot\u001B[0m \u001B[1;32mNone\u001B[0m\u001B[1;33m:\u001B[0m\u001B[1;33m\u001B[0m\u001B[1;33m\u001B[0m\u001B[0m\n\u001B[0;32m   8461\u001B[0m             \u001B[1;32mreturn\u001B[0m \u001B[0mself\u001B[0m\u001B[1;33m.\u001B[0m\u001B[0m_count_level\u001B[0m\u001B[1;33m(\u001B[0m\u001B[0mlevel\u001B[0m\u001B[1;33m,\u001B[0m \u001B[0maxis\u001B[0m\u001B[1;33m=\u001B[0m\u001B[0maxis\u001B[0m\u001B[1;33m,\u001B[0m \u001B[0mnumeric_only\u001B[0m\u001B[1;33m=\u001B[0m\u001B[0mnumeric_only\u001B[0m\u001B[1;33m)\u001B[0m\u001B[1;33m\u001B[0m\u001B[1;33m\u001B[0m\u001B[0m\n",
      "\u001B[1;32md:\\andriy\\university\\ucu\\master2020\\python\\python for ds\\venv\\lib\\site-packages\\pandas\\core\\generic.py\u001B[0m in \u001B[0;36m_get_axis_number\u001B[1;34m(cls, axis)\u001B[0m\n\u001B[0;32m    366\u001B[0m     \u001B[1;32mdef\u001B[0m \u001B[0m_get_axis_number\u001B[0m\u001B[1;33m(\u001B[0m\u001B[0mcls\u001B[0m\u001B[1;33m,\u001B[0m \u001B[0maxis\u001B[0m\u001B[1;33m:\u001B[0m \u001B[0mAxis\u001B[0m\u001B[1;33m)\u001B[0m \u001B[1;33m->\u001B[0m \u001B[0mint\u001B[0m\u001B[1;33m:\u001B[0m\u001B[1;33m\u001B[0m\u001B[1;33m\u001B[0m\u001B[0m\n\u001B[0;32m    367\u001B[0m         \u001B[1;32mtry\u001B[0m\u001B[1;33m:\u001B[0m\u001B[1;33m\u001B[0m\u001B[1;33m\u001B[0m\u001B[0m\n\u001B[1;32m--> 368\u001B[1;33m             \u001B[1;32mreturn\u001B[0m \u001B[0mcls\u001B[0m\u001B[1;33m.\u001B[0m\u001B[0m_AXIS_TO_AXIS_NUMBER\u001B[0m\u001B[1;33m[\u001B[0m\u001B[0maxis\u001B[0m\u001B[1;33m]\u001B[0m\u001B[1;33m\u001B[0m\u001B[1;33m\u001B[0m\u001B[0m\n\u001B[0m\u001B[0;32m    369\u001B[0m         \u001B[1;32mexcept\u001B[0m \u001B[0mKeyError\u001B[0m\u001B[1;33m:\u001B[0m\u001B[1;33m\u001B[0m\u001B[1;33m\u001B[0m\u001B[0m\n\u001B[0;32m    370\u001B[0m             \u001B[1;32mraise\u001B[0m \u001B[0mValueError\u001B[0m\u001B[1;33m(\u001B[0m\u001B[1;34mf\"No axis named {axis} for object type {cls.__name__}\"\u001B[0m\u001B[1;33m)\u001B[0m\u001B[1;33m\u001B[0m\u001B[1;33m\u001B[0m\u001B[0m\n",
      "\u001B[1;31mTypeError\u001B[0m: unhashable type: 'list'"
     ]
    }
   ],
   "source": [
    "frame.count()"
   ],
   "metadata": {
    "collapsed": false,
    "pycharm": {
     "name": "#%%\n"
    }
   }
  },
  {
   "cell_type": "code",
   "execution_count": 26,
   "outputs": [
    {
     "data": {
      "text/plain": "pandas.core.series.Series"
     },
     "execution_count": 26,
     "metadata": {},
     "output_type": "execute_result"
    }
   ],
   "source": [
    "type(frame['accelerometer_Z'])"
   ],
   "metadata": {
    "collapsed": false,
    "pycharm": {
     "name": "#%%\n"
    }
   }
  },
  {
   "cell_type": "code",
   "execution_count": 29,
   "outputs": [
    {
     "name": "stdout",
     "output_type": "stream",
     "text": [
      "<re.Match object; span=(0, 0), match=''>\n"
     ]
    }
   ],
   "source": [
    "print(regex.match(\"\"))"
   ],
   "metadata": {
    "collapsed": false,
    "pycharm": {
     "name": "#%%\n"
    }
   }
  },
  {
   "cell_type": "code",
   "execution_count": 38,
   "outputs": [
    {
     "data": {
      "text/plain": "'walking'"
     },
     "execution_count": 38,
     "metadata": {},
     "output_type": "execute_result"
    }
   ],
   "source": [],
   "metadata": {
    "collapsed": false,
    "pycharm": {
     "name": "#%%\n"
    }
   }
  }
 ],
 "metadata": {
  "kernelspec": {
   "display_name": "Python 3",
   "language": "python",
   "name": "python3"
  },
  "language_info": {
   "codemirror_mode": {
    "name": "ipython",
    "version": 2
   },
   "file_extension": ".py",
   "mimetype": "text/x-python",
   "name": "python",
   "nbconvert_exporter": "python",
   "pygments_lexer": "ipython2",
   "version": "2.7.6"
  }
 },
 "nbformat": 4,
 "nbformat_minor": 0
}