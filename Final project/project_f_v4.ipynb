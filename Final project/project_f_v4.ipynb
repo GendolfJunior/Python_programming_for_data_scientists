{
 "cells": [
  {
   "cell_type": "code",
   "execution_count": null,
   "outputs": [],
   "source": [
    "### 1. Import"
   ],
   "metadata": {
    "collapsed": false,
    "pycharm": {
     "name": "#%%\n"
    }
   }
  },
  {
   "cell_type": "code",
   "execution_count": 1,
   "outputs": [],
   "source": [
    "# import libs\n",
    "import glob\n",
    "import os\n",
    "import numpy as np\n",
    "import re\n",
    "import pandas as pd\n",
    "import seaborn as sns\n",
    "sns.set_theme(style=\"darkgrid\")\n",
    "from tqdm import tqdm"
   ],
   "metadata": {
    "collapsed": false,
    "pycharm": {
     "name": "#%%\n"
    }
   }
  },
  {
   "cell_type": "code",
   "execution_count": null,
   "outputs": [],
   "source": [
    "### 2. Data preparation"
   ],
   "metadata": {
    "collapsed": false,
    "pycharm": {
     "name": "#%%\n"
    }
   }
  },
  {
   "cell_type": "code",
   "execution_count": 4,
   "outputs": [],
   "source": [
    "# Read the files from the directory\n",
    "activity_folders = ['idle', 'running', 'walking', 'stairs']\n",
    "path_data = 'data'\n",
    "\n",
    "#path = os.path.join(path_data, activity_folders[0], '*.csv')\n",
    "# all_files_idle = glob.glob(path + activity_folders[0] + \"/*.csv\")\n",
    "#all_files_idle = glob.glob(path)\n",
    "# all_files = glob.glob(path + \"*.csv\")"
   ],
   "metadata": {
    "collapsed": false,
    "pycharm": {
     "name": "#%%\n"
    }
   }
  },
  {
   "cell_type": "code",
   "execution_count": 5,
   "outputs": [],
   "source": [
    "def get_files(path_to, folder):\n",
    "    custom_path = os.path.join(path_to, activity_folders[folder], '*.csv')\n",
    "    filenames = glob.glob(custom_path)\n",
    "    return filenames"
   ],
   "metadata": {
    "collapsed": false,
    "pycharm": {
     "name": "#%%\n"
    }
   }
  },
  {
   "cell_type": "code",
   "execution_count": 10,
   "outputs": [],
   "source": [
    "idle_filenames = get_files(path_data, 0)\n",
    "running_filenames = get_files(path_data, 1)\n",
    "stairs_filenames = get_files(path_data, 2)\n",
    "walking_filenames = get_files(path_data, 3)"
   ],
   "metadata": {
    "collapsed": false,
    "pycharm": {
     "name": "#%%\n"
    }
   }
  },
  {
   "cell_type": "code",
   "execution_count": 11,
   "outputs": [
    {
     "name": "stdout",
     "output_type": "stream",
     "text": [
      "There are:\n",
      " 1039 idle files\n",
      " 3408 running files\n",
      " 1850 stairs files\n",
      " 165 walking files\n",
      " \n"
     ]
    }
   ],
   "source": [
    "# count how many activity files\n",
    "print(\"There are:\\n {0} idle {4}\\n {1} running {4}\\n {2} stairs {4}\\n {3} walking {4}\\n \".format(len(idle_filenames), len(running_filenames), len(stairs_filenames), len(walking_filenames), 'files'))"
   ],
   "metadata": {
    "collapsed": false,
    "pycharm": {
     "name": "#%%\n"
    }
   }
  },
  {
   "cell_type": "code",
   "execution_count": 9,
   "outputs": [],
   "source": [
    "def get_file_data(filenames):\n",
    "    regex = re.compile('^[a-zA-Z]*')\n",
    "    li = []\n",
    "    for f in filenames:\n",
    "        df = pd.read_csv(f, index_col=None, header=0)\n",
    "        full_name = os.path.basename(f)\n",
    "\n",
    "        # extracting from label only first word in the name\n",
    "        new_name = regex.match(full_name).group()\n",
    "\n",
    "        # creating an object dataframe and adding it to the list\n",
    "        df['label'] = new_name\n",
    "\n",
    "        li.append(df)\n",
    "    df = pd.concat(li, axis=0, ignore_index=True)\n",
    "    return  df"
   ],
   "metadata": {
    "collapsed": false,
    "pycharm": {
     "name": "#%%\n"
    }
   }
  },
  {
   "cell_type": "code",
   "execution_count": 12,
   "outputs": [
    {
     "name": "stderr",
     "output_type": "stream",
     "text": [
      "Progress: 100%|██████████| 100/100 [04:08<00:00,  2.49s/it]\n"
     ]
    }
   ],
   "source": [
    "for i in tqdm(range(100), desc='Progress'):\n",
    "    get_file_data(idle_filenames)"
   ],
   "metadata": {
    "collapsed": false,
    "pycharm": {
     "name": "#%%\n"
    }
   }
  }
 ],
 "metadata": {
  "kernelspec": {
   "display_name": "Python 3",
   "language": "python",
   "name": "python3"
  },
  "language_info": {
   "codemirror_mode": {
    "name": "ipython",
    "version": 3
   },
   "file_extension": ".py",
   "mimetype": "text/x-python",
   "name": "python",
   "nbconvert_exporter": "python",
   "pygments_lexer": "ipython3",
   "version": "3.8.2"
  }
 },
 "nbformat": 4,
 "nbformat_minor": 1
}